{
 "cells": [
  {
   "cell_type": "markdown",
   "metadata": {},
   "source": [
    "# Постановка задачи\n",
    "\n",
    "Необходимо разработать прогноз продаж для туроператора, продающего туры в Объединенные Арабские Эмираты с помощью статистических методов.\n",
    "\n",
    "**Дано:**\n",
    "-\tТуроператор «ОАЭ Тур» продает туры в ОАЭ на своем сайте;\n",
    "-\tЕдинственным каналом продвижения является SEO в Яндексе. Единственным поисковым запросом, по которому оптимизирован сайт, является «туры в оаэ»;\n",
    "-\tУ «ОАЭ Тур» есть только один конкурент;\n",
    "-\tОсновной фактор конкуренции – это цена;\n",
    "-\tИмеется статистика по средним ценам ну тур у «ОАЭ Тур» и конкурента, а также количеству заказов «ОАЭ Тур», в недельном разрезе;\n"
   ]
  },
  {
   "cell_type": "markdown",
   "metadata": {},
   "source": [
    "# Решение\n",
    "\n",
    "Решать задачу будем моделью регрессии. С временными рядами работать тяжело, а прогнозировать еще тяжелее. Модели класса ARIMA использовать не будем."
   ]
  },
  {
   "cell_type": "markdown",
   "metadata": {},
   "source": [
    "### Импорт библиотек"
   ]
  },
  {
   "cell_type": "code",
   "execution_count": 1,
   "metadata": {},
   "outputs": [],
   "source": [
    "import pandas as pd\n",
    "import numpy as np\n",
    "import csv\n",
    "from sklearn.model_selection import train_test_split\n",
    "%matplotlib inline\n",
    "\n",
    "import seaborn as sns; sns.set()\n",
    "import matplotlib.pyplot as plt\n",
    "\n",
    "import warnings\n",
    "warnings.filterwarnings(\"ignore\")"
   ]
  },
  {
   "cell_type": "markdown",
   "metadata": {},
   "source": [
    "### 1) Анализ начальных данных"
   ]
  },
  {
   "cell_type": "markdown",
   "metadata": {},
   "source": [
    "#### Чтение данных"
   ]
  },
  {
   "cell_type": "code",
   "execution_count": 2,
   "metadata": {},
   "outputs": [],
   "source": [
    "# Создаем генератор строк\n",
    "def generator_of_rows(filename):\n",
    "    '''\n",
    "    Generator of rows in csv file\n",
    "    Returns row per call.\n",
    "    \n",
    "    '''\n",
    "    # Открываем файл\n",
    "    with open(filename, \"r\") as csvfile:\n",
    "        datareader = csv.reader(csvfile)\n",
    "        for row in datareader:\n",
    "            yield row"
   ]
  },
  {
   "cell_type": "code",
   "execution_count": 3,
   "metadata": {},
   "outputs": [],
   "source": [
    "def generate_start_data(filename):\n",
    "    '''\n",
    "    Return raw data from csv.\n",
    "    \n",
    "    Args:\n",
    "        filename:str\n",
    "            \"*.csv\" like format\n",
    "    '''\n",
    "    \n",
    "    week = []\n",
    "    own_price = []\n",
    "    competitor_price = []\n",
    "    sales = []\n",
    "    week_index = 0\n",
    "    for row in generator_of_rows('data.csv'):\n",
    "        week_data = (row[0].split(';'))\n",
    "\n",
    "        week.append(week_index)\n",
    "        own_price.append(float(week_data[0]))\n",
    "        competitor_price.append(float(week_data[1]))\n",
    "\n",
    "        if week_data[2]:\n",
    "            sales.append(float(week_data[2]))\n",
    "        else:\n",
    "            sales.append(None)\n",
    "\n",
    "        week_index+=1\n",
    "        \n",
    "    data = pd.DataFrame()\n",
    "    data['week'] = week\n",
    "    data.index = data['week']\n",
    "#     data.drop(columns=['week'], inplace=True)\n",
    "    data['own_price'] = own_price\n",
    "    data['competitor_price'] = competitor_price\n",
    "    data['sales'] = sales\n",
    "    \n",
    "    return data\n",
    "start_data = generate_start_data('data.csv')"
   ]
  },
  {
   "cell_type": "markdown",
   "metadata": {},
   "source": [
    "Статистика собранна по неделям. \n",
    "\n",
    "Имеются признаки и таргет за 42 недели, необходимо восстановить таргет на оставшиеся 10 недель года."
   ]
  },
  {
   "cell_type": "markdown",
   "metadata": {},
   "source": [
    "**Накопленная статистика**"
   ]
  },
  {
   "cell_type": "code",
   "execution_count": 4,
   "metadata": {},
   "outputs": [
    {
     "data": {
      "text/html": [
       "<div>\n",
       "<style scoped>\n",
       "    .dataframe tbody tr th:only-of-type {\n",
       "        vertical-align: middle;\n",
       "    }\n",
       "\n",
       "    .dataframe tbody tr th {\n",
       "        vertical-align: top;\n",
       "    }\n",
       "\n",
       "    .dataframe thead th {\n",
       "        text-align: right;\n",
       "    }\n",
       "</style>\n",
       "<table border=\"1\" class=\"dataframe\">\n",
       "  <thead>\n",
       "    <tr style=\"text-align: right;\">\n",
       "      <th></th>\n",
       "      <th>week</th>\n",
       "      <th>own_price</th>\n",
       "      <th>competitor_price</th>\n",
       "      <th>sales</th>\n",
       "    </tr>\n",
       "    <tr>\n",
       "      <th>week</th>\n",
       "      <th></th>\n",
       "      <th></th>\n",
       "      <th></th>\n",
       "      <th></th>\n",
       "    </tr>\n",
       "  </thead>\n",
       "  <tbody>\n",
       "    <tr>\n",
       "      <td>0</td>\n",
       "      <td>0</td>\n",
       "      <td>103197.80</td>\n",
       "      <td>125185.20</td>\n",
       "      <td>110.0</td>\n",
       "    </tr>\n",
       "    <tr>\n",
       "      <td>1</td>\n",
       "      <td>1</td>\n",
       "      <td>107808.30</td>\n",
       "      <td>111489.70</td>\n",
       "      <td>91.0</td>\n",
       "    </tr>\n",
       "    <tr>\n",
       "      <td>2</td>\n",
       "      <td>2</td>\n",
       "      <td>92518.58</td>\n",
       "      <td>98027.54</td>\n",
       "      <td>93.0</td>\n",
       "    </tr>\n",
       "    <tr>\n",
       "      <td>3</td>\n",
       "      <td>3</td>\n",
       "      <td>80068.75</td>\n",
       "      <td>98274.79</td>\n",
       "      <td>104.0</td>\n",
       "    </tr>\n",
       "    <tr>\n",
       "      <td>4</td>\n",
       "      <td>4</td>\n",
       "      <td>97560.45</td>\n",
       "      <td>128452.00</td>\n",
       "      <td>117.0</td>\n",
       "    </tr>\n",
       "  </tbody>\n",
       "</table>\n",
       "</div>"
      ],
      "text/plain": [
       "      week  own_price  competitor_price  sales\n",
       "week                                          \n",
       "0        0  103197.80         125185.20  110.0\n",
       "1        1  107808.30         111489.70   91.0\n",
       "2        2   92518.58          98027.54   93.0\n",
       "3        3   80068.75          98274.79  104.0\n",
       "4        4   97560.45         128452.00  117.0"
      ]
     },
     "execution_count": 4,
     "metadata": {},
     "output_type": "execute_result"
    }
   ],
   "source": [
    "start_data.head()"
   ]
  },
  {
   "cell_type": "markdown",
   "metadata": {},
   "source": [
    "**Данные для прогноза**"
   ]
  },
  {
   "cell_type": "code",
   "execution_count": 5,
   "metadata": {},
   "outputs": [
    {
     "data": {
      "text/html": [
       "<div>\n",
       "<style scoped>\n",
       "    .dataframe tbody tr th:only-of-type {\n",
       "        vertical-align: middle;\n",
       "    }\n",
       "\n",
       "    .dataframe tbody tr th {\n",
       "        vertical-align: top;\n",
       "    }\n",
       "\n",
       "    .dataframe thead th {\n",
       "        text-align: right;\n",
       "    }\n",
       "</style>\n",
       "<table border=\"1\" class=\"dataframe\">\n",
       "  <thead>\n",
       "    <tr style=\"text-align: right;\">\n",
       "      <th></th>\n",
       "      <th>week</th>\n",
       "      <th>own_price</th>\n",
       "      <th>competitor_price</th>\n",
       "      <th>sales</th>\n",
       "    </tr>\n",
       "    <tr>\n",
       "      <th>week</th>\n",
       "      <th></th>\n",
       "      <th></th>\n",
       "      <th></th>\n",
       "      <th></th>\n",
       "    </tr>\n",
       "  </thead>\n",
       "  <tbody>\n",
       "    <tr>\n",
       "      <td>41</td>\n",
       "      <td>41</td>\n",
       "      <td>99600.50</td>\n",
       "      <td>111304.50</td>\n",
       "      <td>125.0</td>\n",
       "    </tr>\n",
       "    <tr>\n",
       "      <td>42</td>\n",
       "      <td>42</td>\n",
       "      <td>106651.70</td>\n",
       "      <td>96013.79</td>\n",
       "      <td>NaN</td>\n",
       "    </tr>\n",
       "    <tr>\n",
       "      <td>43</td>\n",
       "      <td>43</td>\n",
       "      <td>101673.50</td>\n",
       "      <td>102984.40</td>\n",
       "      <td>NaN</td>\n",
       "    </tr>\n",
       "    <tr>\n",
       "      <td>44</td>\n",
       "      <td>44</td>\n",
       "      <td>123099.70</td>\n",
       "      <td>103358.10</td>\n",
       "      <td>NaN</td>\n",
       "    </tr>\n",
       "    <tr>\n",
       "      <td>45</td>\n",
       "      <td>45</td>\n",
       "      <td>119102.70</td>\n",
       "      <td>125948.50</td>\n",
       "      <td>NaN</td>\n",
       "    </tr>\n",
       "    <tr>\n",
       "      <td>46</td>\n",
       "      <td>46</td>\n",
       "      <td>101896.10</td>\n",
       "      <td>91143.04</td>\n",
       "      <td>NaN</td>\n",
       "    </tr>\n",
       "    <tr>\n",
       "      <td>47</td>\n",
       "      <td>47</td>\n",
       "      <td>124413.50</td>\n",
       "      <td>107045.30</td>\n",
       "      <td>NaN</td>\n",
       "    </tr>\n",
       "    <tr>\n",
       "      <td>48</td>\n",
       "      <td>48</td>\n",
       "      <td>125538.70</td>\n",
       "      <td>110561.70</td>\n",
       "      <td>NaN</td>\n",
       "    </tr>\n",
       "    <tr>\n",
       "      <td>49</td>\n",
       "      <td>49</td>\n",
       "      <td>111693.30</td>\n",
       "      <td>110301.80</td>\n",
       "      <td>NaN</td>\n",
       "    </tr>\n",
       "    <tr>\n",
       "      <td>50</td>\n",
       "      <td>50</td>\n",
       "      <td>112086.90</td>\n",
       "      <td>95005.36</td>\n",
       "      <td>NaN</td>\n",
       "    </tr>\n",
       "    <tr>\n",
       "      <td>51</td>\n",
       "      <td>51</td>\n",
       "      <td>85283.17</td>\n",
       "      <td>103556.00</td>\n",
       "      <td>NaN</td>\n",
       "    </tr>\n",
       "  </tbody>\n",
       "</table>\n",
       "</div>"
      ],
      "text/plain": [
       "      week  own_price  competitor_price  sales\n",
       "week                                          \n",
       "41      41   99600.50         111304.50  125.0\n",
       "42      42  106651.70          96013.79    NaN\n",
       "43      43  101673.50         102984.40    NaN\n",
       "44      44  123099.70         103358.10    NaN\n",
       "45      45  119102.70         125948.50    NaN\n",
       "46      46  101896.10          91143.04    NaN\n",
       "47      47  124413.50         107045.30    NaN\n",
       "48      48  125538.70         110561.70    NaN\n",
       "49      49  111693.30         110301.80    NaN\n",
       "50      50  112086.90          95005.36    NaN\n",
       "51      51   85283.17         103556.00    NaN"
      ]
     },
     "execution_count": 5,
     "metadata": {},
     "output_type": "execute_result"
    }
   ],
   "source": [
    "start_data.tail(11)"
   ]
  },
  {
   "cell_type": "markdown",
   "metadata": {},
   "source": [
    "**Корреляционная матрица**"
   ]
  },
  {
   "cell_type": "code",
   "execution_count": 6,
   "metadata": {},
   "outputs": [
    {
     "data": {
      "text/html": [
       "<div>\n",
       "<style scoped>\n",
       "    .dataframe tbody tr th:only-of-type {\n",
       "        vertical-align: middle;\n",
       "    }\n",
       "\n",
       "    .dataframe tbody tr th {\n",
       "        vertical-align: top;\n",
       "    }\n",
       "\n",
       "    .dataframe thead th {\n",
       "        text-align: right;\n",
       "    }\n",
       "</style>\n",
       "<table border=\"1\" class=\"dataframe\">\n",
       "  <thead>\n",
       "    <tr style=\"text-align: right;\">\n",
       "      <th></th>\n",
       "      <th>week</th>\n",
       "      <th>own_price</th>\n",
       "      <th>competitor_price</th>\n",
       "      <th>sales</th>\n",
       "    </tr>\n",
       "  </thead>\n",
       "  <tbody>\n",
       "    <tr>\n",
       "      <td>week</td>\n",
       "      <td>1.000000</td>\n",
       "      <td>0.389978</td>\n",
       "      <td>0.148848</td>\n",
       "      <td>0.160546</td>\n",
       "    </tr>\n",
       "    <tr>\n",
       "      <td>own_price</td>\n",
       "      <td>0.389978</td>\n",
       "      <td>1.000000</td>\n",
       "      <td>0.483572</td>\n",
       "      <td>-0.036660</td>\n",
       "    </tr>\n",
       "    <tr>\n",
       "      <td>competitor_price</td>\n",
       "      <td>0.148848</td>\n",
       "      <td>0.483572</td>\n",
       "      <td>1.000000</td>\n",
       "      <td>0.599328</td>\n",
       "    </tr>\n",
       "    <tr>\n",
       "      <td>sales</td>\n",
       "      <td>0.160546</td>\n",
       "      <td>-0.036660</td>\n",
       "      <td>0.599328</td>\n",
       "      <td>1.000000</td>\n",
       "    </tr>\n",
       "  </tbody>\n",
       "</table>\n",
       "</div>"
      ],
      "text/plain": [
       "                      week  own_price  competitor_price     sales\n",
       "week              1.000000   0.389978          0.148848  0.160546\n",
       "own_price         0.389978   1.000000          0.483572 -0.036660\n",
       "competitor_price  0.148848   0.483572          1.000000  0.599328\n",
       "sales             0.160546  -0.036660          0.599328  1.000000"
      ]
     },
     "execution_count": 6,
     "metadata": {},
     "output_type": "execute_result"
    }
   ],
   "source": [
    "start_data.corr()"
   ]
  },
  {
   "cell_type": "markdown",
   "metadata": {},
   "source": [
    "Первичный анализ данных свидетельствует о сильной корреляции **Цены путевки у конкурента** и **Количества продаж**.\n",
    "\n",
    "Вполне закономерный факт, чем выше цена у конкурента, тем больше клиентов придет за путевкой к нам."
   ]
  },
  {
   "cell_type": "markdown",
   "metadata": {},
   "source": [
    "### 2) Визуальный анализ. Временной ряд продаж"
   ]
  },
  {
   "cell_type": "code",
   "execution_count": 7,
   "metadata": {},
   "outputs": [
    {
     "data": {
      "image/png": "[encoded data removed]",
      "text/plain": [
       "<Figure size 864x504 with 1 Axes>"
      ]
     },
     "metadata": {
      "needs_background": "light"
     },
     "output_type": "display_data"
    }
   ],
   "source": [
    "plt.figure(figsize = (12,7))\n",
    "plt.plot(start_data.index, start_data.sales,'go--', label='Sales')\n",
    "plt.plot(start_data.index[42:], start_data.sales[42:].fillna(start_data.sales.mean()),'ro--', label='Average')\n",
    "plt.ylabel('Number of sales per week')\n",
    "plt.xlim(0,52)\n",
    "plt.xlabel('Week of year')\n",
    "plt.title('Sales per week')\n",
    "plt.legend()\n",
    "plt.show()"
   ]
  },
  {
   "cell_type": "markdown",
   "metadata": {},
   "source": [
    "Визуально видно, что ряд не является стационарным, есть сильная зависимость от сезона. Тем не менее, применение модели **SARIMAX** в данном случае не приведет к достойным результатам: данных очень мало => извлечь сезонность и тренд по 40 точкам очень сложно. \n",
    "\n",
    "Вместо этого используем модели регрессии. \n",
    "\n",
    "(Хотя можно было бы попробовать построить ARIMA и передать прогнозы в модель регрессии)"
   ]
  },
  {
   "cell_type": "code",
   "execution_count": 8,
   "metadata": {},
   "outputs": [
    {
     "data": {
      "image/png": "[encoded data removed]",
      "text/plain": [
       "<Figure size 864x504 with 1 Axes>"
      ]
     },
     "metadata": {
      "needs_background": "light"
     },
     "output_type": "display_data"
    }
   ],
   "source": [
    "plt.figure(figsize = (12,7))\n",
    "plt.hist(start_data.sales, density=True, bins=8)\n",
    "plt.xlabel('Number of sales per week')\n",
    "plt.ylabel('Density')\n",
    "plt.title('Distribution of sales')\n",
    "plt.show()"
   ]
  },
  {
   "cell_type": "code",
   "execution_count": 9,
   "metadata": {},
   "outputs": [
    {
     "data": {
      "image/png": "[encoded data removed]",
      "text/plain": [
       "<Figure size 864x504 with 1 Axes>"
      ]
     },
     "metadata": {
      "needs_background": "light"
     },
     "output_type": "display_data"
    }
   ],
   "source": [
    "plt.figure(figsize = (12,7))\n",
    "green_diamond = dict(markerfacecolor='g', marker='D')\n",
    "plt.boxplot(start_data.sales.values[:42], notch=True)\n",
    "plt.show()"
   ]
  },
  {
   "cell_type": "markdown",
   "metadata": {},
   "source": [
    "По гистограмме можно сказать, что распределение средней цены на тур **далеко от нормального** (Критерий Шапиро-Уилкадолжен это подтвердить). Что объясняется **малым объемом данных, шумом и сложной зависимостью продаж от сезона**."
   ]
  },
  {
   "cell_type": "markdown",
   "metadata": {},
   "source": [
    "### 3) Генерация новых признаков.\n",
    "\n",
    "Можно было бы использовать номер недели в году в качестве признака в модели регрессии, но расстояние между 1-й неделей и 52-й очень большое, тогда как в жизни это две соседние недели в году. \n",
    "\n",
    "Преобразуем номер недели с помощью тригонометрической функции:\n",
    "\n",
    "$\\sin (week)=|\\sin \\left( \\frac{\\pi }{52}\\cdot n\\_week \\right)|$ "
   ]
  },
  {
   "cell_type": "code",
   "execution_count": 10,
   "metadata": {},
   "outputs": [],
   "source": [
    "data = start_data.copy()\n",
    "data.insert(0,'sin(week)',abs(np.sin(start_data.index*np.pi/52)))"
   ]
  },
  {
   "cell_type": "markdown",
   "metadata": {},
   "source": [
    "Теперь 52-я и 1-я неделя близки."
   ]
  },
  {
   "cell_type": "code",
   "execution_count": 11,
   "metadata": {},
   "outputs": [
    {
     "data": {
      "text/html": [
       "<div>\n",
       "<style scoped>\n",
       "    .dataframe tbody tr th:only-of-type {\n",
       "        vertical-align: middle;\n",
       "    }\n",
       "\n",
       "    .dataframe tbody tr th {\n",
       "        vertical-align: top;\n",
       "    }\n",
       "\n",
       "    .dataframe thead th {\n",
       "        text-align: right;\n",
       "    }\n",
       "</style>\n",
       "<table border=\"1\" class=\"dataframe\">\n",
       "  <thead>\n",
       "    <tr style=\"text-align: right;\">\n",
       "      <th></th>\n",
       "      <th>sin(week)</th>\n",
       "      <th>week</th>\n",
       "      <th>own_price</th>\n",
       "      <th>competitor_price</th>\n",
       "      <th>sales</th>\n",
       "    </tr>\n",
       "    <tr>\n",
       "      <th>week</th>\n",
       "      <th></th>\n",
       "      <th></th>\n",
       "      <th></th>\n",
       "      <th></th>\n",
       "      <th></th>\n",
       "    </tr>\n",
       "  </thead>\n",
       "  <tbody>\n",
       "    <tr>\n",
       "      <td>0</td>\n",
       "      <td>0.000000</td>\n",
       "      <td>0</td>\n",
       "      <td>103197.80</td>\n",
       "      <td>125185.2</td>\n",
       "      <td>110.0</td>\n",
       "    </tr>\n",
       "    <tr>\n",
       "      <td>51</td>\n",
       "      <td>0.060378</td>\n",
       "      <td>51</td>\n",
       "      <td>85283.17</td>\n",
       "      <td>103556.0</td>\n",
       "      <td>NaN</td>\n",
       "    </tr>\n",
       "  </tbody>\n",
       "</table>\n",
       "</div>"
      ],
      "text/plain": [
       "      sin(week)  week  own_price  competitor_price  sales\n",
       "week                                                     \n",
       "0      0.000000     0  103197.80          125185.2  110.0\n",
       "51     0.060378    51   85283.17          103556.0    NaN"
      ]
     },
     "execution_count": 11,
     "metadata": {},
     "output_type": "execute_result"
    }
   ],
   "source": [
    "data.iloc[[0,51]]"
   ]
  },
  {
   "cell_type": "markdown",
   "metadata": {},
   "source": [
    "Так же добавим следующие признаки:\n",
    "- разница цен конкурента и нашей\n",
    "- разница цен нормированная на нашу цену\n",
    "- количество продаж на прошлой неделе\n",
    "- среднее/максимальное/минимальное/медиана/дисперсия числа продаж за прошлые 4 недели\n",
    "- выручка за прошлую неделю (продажи * среднюю цену)\n",
    "- среднее/максимальное/минимальное/медиана/дисперсия выручки за прошлые 4 недели\n",
    "- разница выручки туроператоров за прошлую неделю (при условии равенства продаж)\n",
    "- среднее/максимальное/минимальное/медиана/дисперсия разницы выручки за прошлые 4 недели"
   ]
  },
  {
   "cell_type": "code",
   "execution_count": 12,
   "metadata": {},
   "outputs": [],
   "source": [
    "data.insert(4,'abs_delta', data['competitor_price'] - data['own_price'])\n",
    "data.insert(4,'fraction_delta', data['abs_delta'] / data['own_price'])"
   ]
  },
  {
   "cell_type": "code",
   "execution_count": 13,
   "metadata": {},
   "outputs": [],
   "source": [
    "names_of_functions = ['mean_','max_','min_','median_','std_']\n",
    "functions = [np.mean, np.max, np.min, np.median, np.std]"
   ]
  },
  {
   "cell_type": "code",
   "execution_count": 14,
   "metadata": {},
   "outputs": [],
   "source": [
    "prev_sales = [0]\n",
    "prev_revenue = [0]\n",
    "delta_prev_revenue = [0]\n",
    "\n",
    "sales_features = []\n",
    "revenue_features = []\n",
    "delta_revenue_features = []\n",
    "for i in range(len(data)):\n",
    "    \n",
    "    last_4sales = []\n",
    "    last_4revenue = []\n",
    "    last_delta_revenue = []\n",
    "    \n",
    "    if i-1>=0:\n",
    "        prev_sales.append(data['sales'].loc[i-1])\n",
    "        prev_revenue.append(data['sales'].loc[i-1]*data['own_price'].loc[i-1])\n",
    "        delta_prev_revenue.append(data['sales'].loc[i-1]*(data['competitor_price'].loc[i-1] - data['own_price'].loc[i-1]))\n",
    "    if i-4>=0:\n",
    "        last_4sales = [data['sales'].loc[i-j] for j in range(1,5)]\n",
    "        last_4revenue = [data['sales'].loc[i-j]*data['own_price'].loc[i-j] for j in range(1,5)]\n",
    "        last_delta_revenue = [data['sales'].loc[i-j]*(data['competitor_price'].loc[i-j] - data['own_price'].loc[i-j]) for j in range(1,5)]\n",
    "    elif i>0:\n",
    "        last_4sales = [data['sales'].loc[i-j] for j in range(1,i)]\n",
    "        last_4revenue = [data['sales'].loc[i-j]*data['own_price'].loc[i-j] for j in range(1,i)]\n",
    "        last_delta_revenue = [data['sales'].loc[i-j]*(data['competitor_price'].loc[i-j] - data['own_price'].loc[i-j]) for j in range(1,i)]\n",
    "    \n",
    "    if len(last_4sales)>0:\n",
    "        sales_features.append([function(last_4sales) for function in functions])\n",
    "        revenue_features.append([function(last_4revenue) for function in functions])\n",
    "        delta_revenue_features.append([function(last_delta_revenue) for function in functions])\n",
    "    else:\n",
    "        empty = [0,0,0,0]\n",
    "        sales_features.append([function(empty) for function in functions])\n",
    "        revenue_features.append([function(empty) for function in functions])\n",
    "        delta_revenue_features.append([function(empty) for function in functions])\n",
    "\n",
    "data.insert(4,'prev_sales', prev_sales)\n",
    "data.insert(4,'prev_revenue', prev_revenue)\n",
    "data.insert(4,'prev_delta_revenue', delta_prev_revenue)"
   ]
  },
  {
   "cell_type": "code",
   "execution_count": 15,
   "metadata": {},
   "outputs": [],
   "source": [
    "column_names = []\n",
    "feature_names = ['sales_4week', 'revenue_4week', 'delta_revenue_4week']\n",
    "features = [sales_features, revenue_features, delta_revenue_features]\n",
    "ind_col=0\n",
    "for feature_name, feature in zip(feature_names, features):\n",
    "    for ind_name, function_name in enumerate(names_of_functions):\n",
    "        column_name = function_name+feature_name\n",
    "        column_names.append(column_name)\n",
    "        \n",
    "#         data[column_name] = np.array(feature)[:,ind_name]\n",
    "        data.insert(4+ind_col, column_name, np.array(feature)[:,ind_name])\n",
    "        ind_col+=1"
   ]
  },
  {
   "cell_type": "code",
   "execution_count": 16,
   "metadata": {},
   "outputs": [
    {
     "data": {
      "image/png": "[encoded data removed]",
      "text/plain": [
       "<Figure size 792x648 with 2 Axes>"
      ]
     },
     "metadata": {
      "needs_background": "light"
     },
     "output_type": "display_data"
    }
   ],
   "source": [
    "# Compute the correlation matrix\n",
    "corr = data.corr()\n",
    "\n",
    "# Generate a mask for the upper triangle\n",
    "mask = np.triu(np.ones_like(corr, dtype=np.bool))\n",
    "\n",
    "# Set up the matplotlib figure\n",
    "f, ax = plt.subplots(figsize=(11, 9))\n",
    "\n",
    "# Generate a custom diverging colormap\n",
    "cmap = sns.diverging_palette(220, 10, as_cmap=True)\n",
    "\n",
    "# Draw the heatmap with the mask and correct aspect ratio\n",
    "sns.heatmap(corr, mask=mask, cmap=cmap, vmax=.7, center=0,\n",
    "            square=True, linewidths=.5, cbar_kws={\"shrink\": .5})\n",
    "plt.show()"
   ]
  },
  {
   "cell_type": "code",
   "execution_count": 17,
   "metadata": {},
   "outputs": [
    {
     "data": {
      "text/plain": [
       "sin(week)                    -0.485106\n",
       "week                          0.160546\n",
       "own_price                    -0.036660\n",
       "competitor_price              0.599328\n",
       "mean_sales_4week              0.565840\n",
       "max_sales_4week               0.504999\n",
       "min_sales_4week               0.593743\n",
       "median_sales_4week            0.568227\n",
       "std_sales_4week               0.075533\n",
       "mean_revenue_4week            0.637045\n",
       "max_revenue_4week             0.615553\n",
       "min_revenue_4week             0.650116\n",
       "median_revenue_4week          0.635425\n",
       "std_revenue_4week             0.342504\n",
       "mean_delta_revenue_4week     -0.049251\n",
       "max_delta_revenue_4week       0.228386\n",
       "min_delta_revenue_4week      -0.227279\n",
       "median_delta_revenue_4week   -0.124122\n",
       "std_delta_revenue_4week       0.395354\n",
       "prev_delta_revenue            0.063766\n",
       "prev_revenue                  0.683272\n",
       "prev_sales                    0.696313\n",
       "fraction_delta                0.468243\n",
       "abs_delta                     0.437446\n",
       "sales                         1.000000\n",
       "Name: sales, dtype: float64"
      ]
     },
     "execution_count": 17,
     "metadata": {},
     "output_type": "execute_result"
    }
   ],
   "source": [
    "data.corr().sales"
   ]
  },
  {
   "cell_type": "markdown",
   "metadata": {},
   "source": [
    "Сгенерированные признаки хорошо коррелируют с таргетом, однако необходимо в любом случае провести **feature selection**"
   ]
  },
  {
   "cell_type": "markdown",
   "metadata": {},
   "source": [
    "### 4) Построение скользящего окна\n",
    "\n",
    "Для валидации модели будем использовать скользящее окно. Предсказывать будем продажи на следующей неделе.  \n",
    "Обучать модель будем на окне с переменной шириной, каждый раз добавляя новый объект после валидации.\n",
    "В качестве метрики будем использовать **коэффициент детерминации**"
   ]
  },
  {
   "cell_type": "code",
   "execution_count": 18,
   "metadata": {},
   "outputs": [],
   "source": [
    "from sklearn.metrics import r2_score\n",
    "from sklearn.ensemble import RandomForestRegressor\n",
    "\n",
    "rf_reg = RandomForestRegressor(n_estimators=100, n_jobs=-1, random_state=0)"
   ]
  },
  {
   "cell_type": "code",
   "execution_count": 19,
   "metadata": {},
   "outputs": [],
   "source": [
    "data_train = data[:42].copy()\n",
    "data_test = data[42:].copy()"
   ]
  },
  {
   "cell_type": "markdown",
   "metadata": {},
   "source": [
    "Сначала найдем наулучшее значение начальной ширины **растущего окна**. "
   ]
  },
  {
   "cell_type": "code",
   "execution_count": 20,
   "metadata": {},
   "outputs": [
    {
     "name": "stdout",
     "output_type": "stream",
     "text": [
      "Начальная ширина окна = 4, R2 = 0.6856491133807971\n",
      "Начальная ширина окна = 8, R2 = 0.7618503532655523\n",
      "Начальная ширина окна = 12, R2 = 0.7788770036670208\n",
      "Начальная ширина окна = 16, R2 = 0.6873413885078494\n",
      "Начальная ширина окна = 20, R2 = 0.5333342103106752\n",
      "Начальная ширина окна = 24, R2 = 0.27215999441392813\n",
      "Начальная ширина окна = 28, R2 = -1.8657804776450977\n",
      "Начальная ширина окна = 32, R2 = -0.4056757318952233\n"
     ]
    }
   ],
   "source": [
    "start_gap = 4 \n",
    "data_train = data[:42].copy()\n",
    "start_windows = [4*i for i in range(1,9)]\n",
    "r2_grow_wind = []\n",
    "for start_window in [4*i for i in range(1,9)]:\n",
    "    prediction = []\n",
    "    y_validation = []\n",
    "    curr_window = start_window\n",
    "    curr_gap = 4\n",
    "    for ind_cv in range(len(data_train)-start_window-start_gap):\n",
    "        curr_data = data_train[curr_gap:curr_gap+curr_window]\n",
    "        curr_x_train = curr_data.iloc[:,:-1]\n",
    "        curr_y_train = curr_data.sales\n",
    "        curr_x_test = data_train.iloc[curr_gap+curr_window,:-1]\n",
    "        curr_y_valid = data_train.iloc[curr_gap+curr_window,-1]\n",
    "\n",
    "        rf_reg.fit(curr_x_train,curr_y_train)\n",
    "        curr_prediction = rf_reg.predict(curr_x_test.values.reshape(1, -1))[0]\n",
    "        prediction.append(curr_prediction)\n",
    "        y_validation.append(curr_y_valid)\n",
    "\n",
    "        curr_window+=1\n",
    "        \n",
    "    r2_grow_wind.append(r2_score(y_validation, prediction))\n",
    "        \n",
    "    print(f'Начальная ширина окна = {start_window}, R2 = {r2_score(y_validation, prediction)}')"
   ]
  },
  {
   "cell_type": "markdown",
   "metadata": {},
   "source": [
    "Сравним со скользящим окном **фиксированной ширины**. Из обучения каждый раз удаляем последний объект."
   ]
  },
  {
   "cell_type": "code",
   "execution_count": 21,
   "metadata": {},
   "outputs": [
    {
     "name": "stdout",
     "output_type": "stream",
     "text": [
      "Ширина окна = 4, R2 = 0.7542172458247388\n",
      "Ширина окна = 8, R2 = 0.7723721843381501\n",
      "Ширина окна = 12, R2 = 0.8015779468110629\n",
      "Ширина окна = 16, R2 = 0.7019735113080792\n",
      "Ширина окна = 20, R2 = 0.5170236849437049\n",
      "Ширина окна = 24, R2 = 0.3219081230797879\n",
      "Ширина окна = 28, R2 = -1.6014766037211885\n",
      "Ширина окна = 32, R2 = -0.1688882126348228\n"
     ]
    }
   ],
   "source": [
    "r2_fix_wind = []\n",
    "for start_window in [4*i for i in range(1,9)]:\n",
    "    prediction = []\n",
    "    y_validation = []\n",
    "    curr_window = start_window\n",
    "    curr_gap = 4\n",
    "    for ind_cv in range(len(data_train)-start_window-start_gap):\n",
    "        curr_data = data_train[curr_gap:curr_gap+curr_window]\n",
    "        curr_x_train = curr_data.iloc[:,:-1]\n",
    "        curr_y_train = curr_data.sales\n",
    "        curr_x_test = data_train.iloc[curr_gap+curr_window,:-1]\n",
    "        curr_y_valid = data_train.iloc[curr_gap+curr_window,-1]\n",
    "\n",
    "        rf_reg.fit(curr_x_train,curr_y_train)\n",
    "        curr_prediction = rf_reg.predict(curr_x_test.values.reshape(1, -1))[0]\n",
    "        prediction.append(curr_prediction)\n",
    "        y_validation.append(curr_y_valid)\n",
    "        \n",
    "        curr_gap +=1\n",
    "        \n",
    "    r2_fix_wind.append(r2_score(y_validation, prediction))\n",
    "    print(f'Ширина окна = {start_window}, R2 = {r2_score(y_validation, prediction)}')"
   ]
  },
  {
   "cell_type": "markdown",
   "metadata": {},
   "source": [
    "Сравним окна"
   ]
  },
  {
   "cell_type": "code",
   "execution_count": 22,
   "metadata": {},
   "outputs": [
    {
     "data": {
      "text/html": [
       "<div>\n",
       "<style scoped>\n",
       "    .dataframe tbody tr th:only-of-type {\n",
       "        vertical-align: middle;\n",
       "    }\n",
       "\n",
       "    .dataframe tbody tr th {\n",
       "        vertical-align: top;\n",
       "    }\n",
       "\n",
       "    .dataframe thead th {\n",
       "        text-align: right;\n",
       "    }\n",
       "</style>\n",
       "<table border=\"1\" class=\"dataframe\">\n",
       "  <thead>\n",
       "    <tr style=\"text-align: right;\">\n",
       "      <th></th>\n",
       "      <th>Ширина_4</th>\n",
       "      <th>Ширина_8</th>\n",
       "      <th>Ширина_12</th>\n",
       "      <th>Ширина_16</th>\n",
       "      <th>Ширина_20</th>\n",
       "      <th>Ширина_24</th>\n",
       "      <th>Ширина_28</th>\n",
       "      <th>Ширина_32</th>\n",
       "    </tr>\n",
       "  </thead>\n",
       "  <tbody>\n",
       "    <tr>\n",
       "      <td>Fixed_wind</td>\n",
       "      <td>0.754217</td>\n",
       "      <td>0.772372</td>\n",
       "      <td>0.801578</td>\n",
       "      <td>0.701974</td>\n",
       "      <td>0.517024</td>\n",
       "      <td>0.321908</td>\n",
       "      <td>-1.601477</td>\n",
       "      <td>-0.168888</td>\n",
       "    </tr>\n",
       "    <tr>\n",
       "      <td>Grow_wind</td>\n",
       "      <td>0.685649</td>\n",
       "      <td>0.761850</td>\n",
       "      <td>0.778877</td>\n",
       "      <td>0.687341</td>\n",
       "      <td>0.533334</td>\n",
       "      <td>0.272160</td>\n",
       "      <td>-1.865780</td>\n",
       "      <td>-0.405676</td>\n",
       "    </tr>\n",
       "  </tbody>\n",
       "</table>\n",
       "</div>"
      ],
      "text/plain": [
       "            Ширина_4  Ширина_8  Ширина_12  Ширина_16  Ширина_20  Ширина_24  \\\n",
       "Fixed_wind  0.754217  0.772372   0.801578   0.701974   0.517024   0.321908   \n",
       "Grow_wind   0.685649  0.761850   0.778877   0.687341   0.533334   0.272160   \n",
       "\n",
       "            Ширина_28  Ширина_32  \n",
       "Fixed_wind  -1.601477  -0.168888  \n",
       "Grow_wind   -1.865780  -0.405676  "
      ]
     },
     "execution_count": 22,
     "metadata": {},
     "output_type": "execute_result"
    }
   ],
   "source": [
    "pd.DataFrame([r2_fix_wind,r2_grow_wind], columns = ['Ширина_'+str(4*i) for i in range(1,9)], \n",
    "             index = ['Fixed_wind','Grow_wind'])"
   ]
  },
  {
   "cell_type": "markdown",
   "metadata": {},
   "source": [
    "Как видно из таблицы, окно с фиксированной шириной в 12 недель показал лучший результат. \n",
    "\n",
    "Таким образом, для построения модели мы будем учитывать данные за последние 12 недель."
   ]
  },
  {
   "cell_type": "code",
   "execution_count": 23,
   "metadata": {},
   "outputs": [],
   "source": [
    "prediction = []\n",
    "y_validation = []\n",
    "x_validation = []\n",
    "\n",
    "curr_gap = 4\n",
    "start_window = 12\n",
    "curr_window = start_window\n",
    "for ind_cv in range(len(data_train)-start_window-start_gap):\n",
    "        curr_data = data_train[curr_gap:curr_gap+curr_window]\n",
    "        curr_x_train = curr_data.iloc[:,:-1]\n",
    "        curr_y_train = curr_data.sales\n",
    "        curr_x_test = data_train.iloc[curr_gap+curr_window,:-1]\n",
    "        curr_y_valid = data_train.iloc[curr_gap+curr_window,-1]\n",
    "\n",
    "        rf_reg.fit(curr_x_train,curr_y_train)\n",
    "        curr_prediction = rf_reg.predict(curr_x_test.values.reshape(1, -1))[0]\n",
    "        prediction.append(curr_prediction)\n",
    "        y_validation.append(curr_y_valid)\n",
    "        x_validation.append(curr_x_test.week)\n",
    "        \n",
    "        curr_gap +=1"
   ]
  },
  {
   "cell_type": "markdown",
   "metadata": {},
   "source": [
    "Построим валидацию и прогноз"
   ]
  },
  {
   "cell_type": "code",
   "execution_count": 24,
   "metadata": {},
   "outputs": [
    {
     "data": {
      "image/png": "[encoded data removed]",
      "text/plain": [
       "<Figure size 864x504 with 1 Axes>"
      ]
     },
     "metadata": {
      "needs_background": "light"
     },
     "output_type": "display_data"
    }
   ],
   "source": [
    "plt.figure(figsize = (12,7))\n",
    "plt.plot(x_validation, y_validation, 'go--', label='Validation')\n",
    "plt.plot(x_validation, prediction, 'ro--', label='Prediction')\n",
    "plt.ylabel('Number of sales per week')\n",
    "plt.xlim(0,52)\n",
    "plt.xlabel('Week of year')\n",
    "plt.title('Sales per week')\n",
    "plt.legend()\n",
    "plt.show()"
   ]
  },
  {
   "cell_type": "markdown",
   "metadata": {},
   "source": [
    "### 5) Предсказание "
   ]
  },
  {
   "cell_type": "code",
   "execution_count": 25,
   "metadata": {},
   "outputs": [],
   "source": [
    "def prepare_next_obj(last_data, last_index):\n",
    "    prev_sales = []\n",
    "    prev_revenue = []\n",
    "    delta_prev_revenue = []\n",
    "\n",
    "    sales_features = []\n",
    "    revenue_features = []\n",
    "    delta_revenue_features = []\n",
    "\n",
    "    last_4sales = []\n",
    "    last_4revenue = []\n",
    "    last_delta_revenue = []\n",
    "\n",
    "    prev_sales = last_data['sales'].iloc[last_index]\n",
    "    prev_revenue = last_data['sales'].iloc[last_index]*data['own_price'].iloc[last_index]\n",
    "    delta_prev_revenue = last_data['sales'].iloc[last_index]\\\n",
    "                        *(last_data['competitor_price'].iloc[last_index] - last_data['own_price'].iloc[last_index])\n",
    "\n",
    "    last_4sales = [last_data['sales'].iloc[last_index-j] for j in range(1,5)]\n",
    "    last_4revenue = [last_data['sales'].iloc[last_index-j]*last_data['own_price'].loc[last_index-j] for j in range(1,5)]\n",
    "    last_delta_revenue = [last_data['sales'].iloc[last_index-j]\\\n",
    "                          *(last_data['competitor_price'].iloc[last_index-j] - last_data['own_price'].iloc[last_index-j]) for j in range(1,5)]\n",
    "\n",
    "    if len(last_4sales)>0:\n",
    "        sales_features.append([function(last_4sales) for function in functions])\n",
    "        revenue_features.append([function(last_4revenue) for function in functions])\n",
    "        delta_revenue_features.append([function(last_delta_revenue) for function in functions])\n",
    "    \n",
    "    \n",
    "    \n",
    "    \n",
    "    last_data['prev_sales'].iloc[last_index+1] = prev_sales\n",
    "    last_data['prev_revenue'].iloc[last_index+1] = prev_revenue\n",
    "    last_data['prev_delta_revenue'].iloc[last_index+1] = delta_prev_revenue\n",
    "\n",
    "    feature_names = ['sales_4week', 'revenue_4week', 'delta_revenue_4week']\n",
    "    features = [sales_features, revenue_features, delta_revenue_features]\n",
    "    ind_col=0\n",
    "    for feature_name, feature in zip(feature_names, features):\n",
    "        for ind_name, function_name in enumerate(names_of_functions):\n",
    "            column_name = function_name+feature_name\n",
    "            \n",
    "            last_data[column_name].iloc[last_index+1] = feature[0][ind_name]\n",
    "    \n",
    "    \n",
    "\n",
    "    return last_data"
   ]
  },
  {
   "cell_type": "code",
   "execution_count": 26,
   "metadata": {},
   "outputs": [],
   "source": [
    "flow_data = data.copy()\n",
    "window = 12\n",
    "curr_start = len(data_train) - window\n",
    "curr_stop = len(data_train)\n",
    "for ind_test in range(len(data_test)):\n",
    "    curr_data = flow_data[curr_start: curr_stop].copy()\n",
    "    \n",
    "    curr_x_train = curr_data.iloc[:,:-1]\n",
    "    curr_y_train = curr_data.sales\n",
    "    \n",
    "    curr_x_test = flow_data.iloc[curr_stop,:-1]\n",
    "\n",
    "    rf_reg.fit(curr_x_train,curr_y_train)\n",
    "    curr_prediction = rf_reg.predict(curr_x_test.values.reshape(1, -1))[0]\n",
    "    \n",
    "    flow_data.sales.iloc[curr_stop] = curr_prediction\n",
    "    if curr_stop<51:\n",
    "        flow_data = prepare_next_obj(flow_data, curr_stop)\n",
    "    \n",
    "    \n",
    "    curr_start+=1\n",
    "    curr_stop+=1\n",
    "    "
   ]
  },
  {
   "cell_type": "markdown",
   "metadata": {},
   "source": [
    "### Кривая прогноза"
   ]
  },
  {
   "cell_type": "code",
   "execution_count": 27,
   "metadata": {},
   "outputs": [
    {
     "data": {
      "image/png": "[encoded data removed]",
      "text/plain": [
       "<Figure size 864x504 with 1 Axes>"
      ]
     },
     "metadata": {
      "needs_background": "light"
     },
     "output_type": "display_data"
    }
   ],
   "source": [
    "plt.figure(figsize = (12,7))\n",
    "plt.plot(start_data.index, start_data.sales,'go--', label='Sales')\n",
    "plt.plot(x_validation+list(flow_data.index[42:]), prediction+list(flow_data.sales[42:]),'ro--', label='Prediction')\n",
    "plt.ylabel('Number of sales per week')\n",
    "plt.xlim(0,52)\n",
    "plt.xlabel('Week of year')\n",
    "plt.title('Sales per week')\n",
    "plt.legend()\n",
    "plt.show()"
   ]
  },
  {
   "cell_type": "markdown",
   "metadata": {},
   "source": [
    "### 6) Выводы"
   ]
  },
  {
   "cell_type": "markdown",
   "metadata": {},
   "source": [
    "- Коэффициент детерминации R2 = 0.8 на обучающей выборке\n",
    "- Данные сложные: сильная сезонная зависимость, большой разброс значений, мало наблюдений\n",
    "- Сгенерированные признаки сильно коррелируют друг с другом, нужен отбор признаков\n",
    "- С помощью скользящего окна уменьшается переобучение\n",
    "- Нужна аккуратная валидация и обучение без заглядывания в будущее"
   ]
  },
  {
   "cell_type": "markdown",
   "metadata": {},
   "source": [
    "### Что можно улучшить\n",
    "\n",
    "- Попробовать  другие модели регрессии : Lasso, Ridge, Tree, Gradient Boosting, SARIMA\n",
    "- Добавить экспоненциальное сглаживание \n",
    "- Поиск оптимального окна и валидацию\n",
    "- Использовать доп.информацию о сезонности в ОАЭ, котировках доллара, стоимости и количество авиаперелетов в ОАЭ, количестве выходных и празничных дней\n",
    "- Экстримальные новости (засуха, ураган, военный конфликт) "
   ]
  },
  {
   "cell_type": "markdown",
   "metadata": {},
   "source": [
    "# Прогноз\n"
   ]
  },
  {
   "cell_type": "code",
   "execution_count": 28,
   "metadata": {},
   "outputs": [
    {
     "data": {
      "text/html": [
       "<div>\n",
       "<style scoped>\n",
       "    .dataframe tbody tr th:only-of-type {\n",
       "        vertical-align: middle;\n",
       "    }\n",
       "\n",
       "    .dataframe tbody tr th {\n",
       "        vertical-align: top;\n",
       "    }\n",
       "\n",
       "    .dataframe thead th {\n",
       "        text-align: right;\n",
       "    }\n",
       "</style>\n",
       "<table border=\"1\" class=\"dataframe\">\n",
       "  <thead>\n",
       "    <tr style=\"text-align: right;\">\n",
       "      <th></th>\n",
       "      <th>own_price</th>\n",
       "      <th>competitor_price</th>\n",
       "      <th>sales</th>\n",
       "    </tr>\n",
       "    <tr>\n",
       "      <th>week</th>\n",
       "      <th></th>\n",
       "      <th></th>\n",
       "      <th></th>\n",
       "    </tr>\n",
       "  </thead>\n",
       "  <tbody>\n",
       "    <tr>\n",
       "      <td>42</td>\n",
       "      <td>106651.70</td>\n",
       "      <td>96013.79</td>\n",
       "      <td>101.640000</td>\n",
       "    </tr>\n",
       "    <tr>\n",
       "      <td>43</td>\n",
       "      <td>101673.50</td>\n",
       "      <td>102984.40</td>\n",
       "      <td>107.172800</td>\n",
       "    </tr>\n",
       "    <tr>\n",
       "      <td>44</td>\n",
       "      <td>123099.70</td>\n",
       "      <td>103358.10</td>\n",
       "      <td>101.688784</td>\n",
       "    </tr>\n",
       "    <tr>\n",
       "      <td>45</td>\n",
       "      <td>119102.70</td>\n",
       "      <td>125948.50</td>\n",
       "      <td>103.355219</td>\n",
       "    </tr>\n",
       "    <tr>\n",
       "      <td>46</td>\n",
       "      <td>101896.10</td>\n",
       "      <td>91143.04</td>\n",
       "      <td>103.417088</td>\n",
       "    </tr>\n",
       "    <tr>\n",
       "      <td>47</td>\n",
       "      <td>124413.50</td>\n",
       "      <td>107045.30</td>\n",
       "      <td>103.046846</td>\n",
       "    </tr>\n",
       "    <tr>\n",
       "      <td>48</td>\n",
       "      <td>125538.70</td>\n",
       "      <td>110561.70</td>\n",
       "      <td>101.910820</td>\n",
       "    </tr>\n",
       "    <tr>\n",
       "      <td>49</td>\n",
       "      <td>111693.30</td>\n",
       "      <td>110301.80</td>\n",
       "      <td>103.728114</td>\n",
       "    </tr>\n",
       "    <tr>\n",
       "      <td>50</td>\n",
       "      <td>112086.90</td>\n",
       "      <td>95005.36</td>\n",
       "      <td>103.031086</td>\n",
       "    </tr>\n",
       "    <tr>\n",
       "      <td>51</td>\n",
       "      <td>85283.17</td>\n",
       "      <td>103556.00</td>\n",
       "      <td>112.954289</td>\n",
       "    </tr>\n",
       "  </tbody>\n",
       "</table>\n",
       "</div>"
      ],
      "text/plain": [
       "      own_price  competitor_price       sales\n",
       "week                                         \n",
       "42    106651.70          96013.79  101.640000\n",
       "43    101673.50         102984.40  107.172800\n",
       "44    123099.70         103358.10  101.688784\n",
       "45    119102.70         125948.50  103.355219\n",
       "46    101896.10          91143.04  103.417088\n",
       "47    124413.50         107045.30  103.046846\n",
       "48    125538.70         110561.70  101.910820\n",
       "49    111693.30         110301.80  103.728114\n",
       "50    112086.90          95005.36  103.031086\n",
       "51     85283.17         103556.00  112.954289"
      ]
     },
     "execution_count": 28,
     "metadata": {},
     "output_type": "execute_result"
    }
   ],
   "source": [
    "flow_data[['own_price', 'competitor_price', 'sales']].loc[42:]"
   ]
  },
  {
   "cell_type": "code",
   "execution_count": null,
   "metadata": {},
   "outputs": [],
   "source": []
  }
 ],
 "metadata": {
  "kernelspec": {
   "display_name": "Python 3",
   "language": "python",
   "name": "python3"
  },
  "language_info": {
   "codemirror_mode": {
    "name": "ipython",
    "version": 3
   },
   "file_extension": ".py",
   "mimetype": "text/x-python",
   "name": "python",
   "nbconvert_exporter": "python",
   "pygments_lexer": "ipython3",
   "version": "3.7.4"
  }
 },
 "nbformat": 4,
 "nbformat_minor": 2
}
